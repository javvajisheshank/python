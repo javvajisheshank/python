{
 "cells": [
  {
   "cell_type": "code",
   "execution_count": 3,
   "id": "f1224546-faba-47b8-93d3-90383b97116b",
   "metadata": {},
   "outputs": [
    {
     "name": "stdout",
     "output_type": "stream",
     "text": [
      "num is 100 is even:\n",
      "47 is odd:\n",
      "51 is odd:\n"
     ]
    }
   ],
   "source": [
    "# 1Q)\n",
    "# for example \n",
    "# take a random number between 1 to 100\n",
    "# print it is a even number and odd number \n",
    "# you need to generate 3 random number\n",
    "\n",
    "import random\n",
    "for i in range(3):\n",
    "    \n",
    " num=random.randint(1,100)\n",
    " if num%2==0:\n",
    "    print(f\"num is {num} is even:\")\n",
    " else:\n",
    "    print(f\"{num} is odd:\")"
   ]
  },
  {
   "cell_type": "code",
   "execution_count": 4,
   "id": "2665b26e-e151-410e-9f42-4c89840253e6",
   "metadata": {},
   "outputs": [
    {
     "name": "stdout",
     "output_type": "stream",
     "text": [
      "the 10 is even\n",
      "the 11 is odd\n",
      "the 12 is even\n",
      "the 13 is odd\n",
      "the 14 is even\n",
      "the 15 is odd\n",
      "the 16 is even\n",
      "the 17 is odd\n",
      "the 18 is even\n",
      "the 19 is odd\n"
     ]
    }
   ],
   "source": [
    "# wap ask the user print the number is even or odd between 10 to 20\n",
    "\n",
    "for i in range(10,20):\n",
    "    if i%2==0:\n",
    "        print(f\"the {i} is even\")\n",
    "    else:\n",
    "        print(f\"the {i} is odd\")"
   ]
  },
  {
   "cell_type": "code",
   "execution_count": 25,
   "id": "2939d52c-ca81-4cc7-8691-0f15c8e9d83f",
   "metadata": {},
   "outputs": [
    {
     "name": "stdin",
     "output_type": "stream",
     "text": [
      "enter the number between 20 to 25: 21\n"
     ]
    },
    {
     "name": "stdout",
     "output_type": "stream",
     "text": [
      "the square of num is 441:\n"
     ]
    },
    {
     "name": "stdin",
     "output_type": "stream",
     "text": [
      "enter the number between 20 to 25: 22\n"
     ]
    },
    {
     "name": "stdout",
     "output_type": "stream",
     "text": [
      "the square of num is 484:\n"
     ]
    },
    {
     "name": "stdin",
     "output_type": "stream",
     "text": [
      "enter the number between 20 to 25: 23\n"
     ]
    },
    {
     "name": "stdout",
     "output_type": "stream",
     "text": [
      "the square of num is 529:\n"
     ]
    },
    {
     "name": "stdin",
     "output_type": "stream",
     "text": [
      "enter the number between 20 to 25: 24\n"
     ]
    },
    {
     "name": "stdout",
     "output_type": "stream",
     "text": [
      "the square of num is 576:\n"
     ]
    },
    {
     "name": "stdin",
     "output_type": "stream",
     "text": [
      "enter the number between 20 to 25: 25\n"
     ]
    },
    {
     "name": "stdout",
     "output_type": "stream",
     "text": [
      "the square of num is 625:\n"
     ]
    }
   ],
   "source": [
    "#wap ask the user print the square of the number between 20 to 25\n",
    "\n",
    "for i in range(5):\n",
    "    num=eval(input(\"enter the number between 20 to 25:\"))\n",
    "    if 20<=num<=25:\n",
    "            print(f\"the square of num is {num*num}:\")\n",
    "    else:\n",
    "        print(f\"the square of num is {num*num}:\")"
   ]
  },
  {
   "cell_type": "code",
   "execution_count": 2,
   "id": "1b58f771-1fb6-43ff-80b0-6b00254e6e77",
   "metadata": {},
   "outputs": [
    {
     "name": "stdin",
     "output_type": "stream",
     "text": [
      "enter the  number: 5\n"
     ]
    },
    {
     "name": "stdout",
     "output_type": "stream",
     "text": [
      "the square of numer is 25:\n"
     ]
    },
    {
     "name": "stdin",
     "output_type": "stream",
     "text": [
      "enter the  number: 6\n"
     ]
    },
    {
     "name": "stdout",
     "output_type": "stream",
     "text": [
      "the square of numer is 36:\n"
     ]
    },
    {
     "name": "stdin",
     "output_type": "stream",
     "text": [
      "enter the  number: 7\n"
     ]
    },
    {
     "name": "stdout",
     "output_type": "stream",
     "text": [
      "the square of numer is 49:\n"
     ]
    }
   ],
   "source": [
    "# wap ask the user enter number three times find the square of the number\n",
    "# how many times loop should run\n",
    "\n",
    "for i in range(3):\n",
    "    num=eval(input(\"enter the  number:\"))\n",
    "    print(f\"the square of numer is {num*num}:\")"
   ]
  },
  {
   "cell_type": "code",
   "execution_count": 5,
   "id": "db1686a9-d0e8-4b27-8756-a6c437becde7",
   "metadata": {},
   "outputs": [
    {
     "name": "stdin",
     "output_type": "stream",
     "text": [
      "enter the table which you want to see: 14\n"
     ]
    },
    {
     "name": "stdout",
     "output_type": "stream",
     "text": [
      " 1x14 is 14:\n",
      " 2x14 is 28:\n",
      " 3x14 is 42:\n",
      " 4x14 is 56:\n",
      " 5x14 is 70:\n",
      " 6x14 is 84:\n",
      " 7x14 is 98:\n",
      " 8x14 is 112:\n",
      " 9x14 is 126:\n",
      " 10x14 is 140:\n"
     ]
    }
   ],
   "source": [
    "# 5Q)print the 14th table\n",
    "# ans: 14x1=14\n",
    "#      14x2=28\n",
    "#      14x3=42\n",
    "#      14x4=56\n",
    "\n",
    "\n",
    "#     14x10=140\n",
    "\n",
    "num=eval(input(\"enter the table which you want to see:\"))\n",
    "for i in range(1,11):\n",
    "    val=i*num\n",
    "    print(f\" {i}x{num} is {val}:\")"
   ]
  },
  {
   "cell_type": "code",
   "execution_count": 6,
   "id": "1956f0b9-ff24-42e4-a13a-8c82caec644a",
   "metadata": {},
   "outputs": [
    {
     "name": "stdin",
     "output_type": "stream",
     "text": [
      "enter the factors which number you want to see: 75\n"
     ]
    },
    {
     "name": "stdout",
     "output_type": "stream",
     "text": [
      "1 is the divisior of 75\n",
      "3 is the divisior of 75\n",
      "5 is the divisior of 75\n",
      "15 is the divisior of 75\n",
      "25 is the divisior of 75\n",
      "75 is the divisior of 75\n"
     ]
    }
   ],
   "source": [
    "#6Q) find the factors of 75\n",
    "# step 1: iterate the loop=which number factor you want\n",
    "# step2: apply the if condition\n",
    "#         con= divide the number with each i\n",
    "1\n",
    "num=eval(input(\"enter the factors which number you want to see:\"))\n",
    "for i in range(1,num+1):\n",
    "    if num%i==0:\n",
    "        print(f\"{i} is the divisior of {num}\")    "
   ]
  },
  {
   "cell_type": "code",
   "execution_count": 1,
   "id": "64c28635-33e8-4f41-aa47-ef7ee8b315e8",
   "metadata": {},
   "outputs": [
    {
     "name": "stdout",
     "output_type": "stream",
     "text": [
      "0+1=1\n",
      "1+2=3\n",
      "3+3=6\n",
      "6+4=10\n",
      "10+5=15\n",
      "15+6=21\n",
      "21+7=28\n",
      "28+8=36\n",
      "36+9=45\n",
      "45+10=55\n"
     ]
    }
   ],
   "source": [
    "# write the sum of first 10 natural numbers\n",
    "# 1 to 10\n",
    "# 1+2+3+4+5+6+7+8+9+10=55\n",
    "#summ=0\n",
    "#for loop\n",
    "\n",
    "   #summ=summ+i\n",
    "summ=0\n",
    "for i in range(1,11):\n",
    "    summ=summ+i\n",
    "    print(f\"{summ-i}+{i}={summ}\")"
   ]
  },
  {
   "cell_type": "code",
   "execution_count": 2,
   "id": "72fd9c45-b1ed-470b-8beb-a07b839d0a42",
   "metadata": {},
   "outputs": [
    {
     "name": "stdin",
     "output_type": "stream",
     "text": [
      "enter the number: 10\n"
     ]
    },
    {
     "name": "stdout",
     "output_type": "stream",
     "text": [
      "0.1\n",
      "0.3\n",
      "0.6\n",
      "1.0\n",
      "1.5\n",
      "2.1\n",
      "2.8\n",
      "3.6\n",
      "4.5\n",
      "5.5\n"
     ]
    }
   ],
   "source": [
    "#8Q) average of first 10 numbers\n",
    "# avg=summation of ass the numbers/total number\n",
    "# wap to find the average of 'N' numbers in python\n",
    "\n",
    "summ=0\n",
    "N=eval(input('enter the number:'))\n",
    "for i in range(1,N+1):\n",
    "    summ=summ+i\n",
    "    print(summ/N)"
   ]
  },
  {
   "cell_type": "code",
   "execution_count": 3,
   "id": "8fedfc54-ae64-4a59-b8e6-bc2ec09af1ad",
   "metadata": {},
   "outputs": [
    {
     "name": "stdin",
     "output_type": "stream",
     "text": [
      "enter the divisiors you count: 75\n"
     ]
    },
    {
     "ename": "NameError",
     "evalue": "name 'count' is not defined",
     "output_type": "error",
     "traceback": [
      "\u001b[1;31m---------------------------------------------------------------------------\u001b[0m",
      "\u001b[1;31mNameError\u001b[0m                                 Traceback (most recent call last)",
      "Cell \u001b[1;32mIn[3], line 8\u001b[0m\n\u001b[0;32m      6\u001b[0m \u001b[38;5;28;01mfor\u001b[39;00m i \u001b[38;5;129;01min\u001b[39;00m \u001b[38;5;28mrange\u001b[39m(\u001b[38;5;241m1\u001b[39m,num\u001b[38;5;241m+\u001b[39m\u001b[38;5;241m1\u001b[39m):\n\u001b[0;32m      7\u001b[0m     \u001b[38;5;28;01mif\u001b[39;00m num\u001b[38;5;241m%\u001b[39mi\u001b[38;5;241m==\u001b[39m\u001b[38;5;241m0\u001b[39m:\n\u001b[1;32m----> 8\u001b[0m         count\u001b[38;5;241m=\u001b[39mcount\u001b[38;5;241m+\u001b[39m\u001b[38;5;241m1\u001b[39m\n\u001b[0;32m     10\u001b[0m         \u001b[38;5;28mprint\u001b[39m(\u001b[38;5;124mf\u001b[39m\u001b[38;5;124m\"\u001b[39m\u001b[38;5;124mthe number of divisiors for \u001b[39m\u001b[38;5;132;01m{\u001b[39;00mnum\u001b[38;5;132;01m}\u001b[39;00m\u001b[38;5;124m is \u001b[39m\u001b[38;5;132;01m{\u001b[39;00mcount\u001b[38;5;132;01m}\u001b[39;00m\u001b[38;5;124m\"\u001b[39m)\n",
      "\u001b[1;31mNameError\u001b[0m: name 'count' is not defined"
     ]
    }
   ],
   "source": [
    "#9Q) find the number of divisiors of 75\n",
    "# ans: 1,3,5,15,25,75\n",
    "# number=6\n",
    "\n",
    "num=eval(input(\"enter the divisiors you count:\"))\n",
    "for i in range(1,num+1):\n",
    "if num%i==0:\n",
    "    count=count+1\n",
    "else:\n",
    "    print(f\"the number of divisiors for {num} is {count}\")"
   ]
  },
  {
   "cell_type": "code",
   "execution_count": 5,
   "id": "951c8a8e-3fba-49f9-a151-bd56bc3ea4e7",
   "metadata": {},
   "outputs": [
    {
     "name": "stdin",
     "output_type": "stream",
     "text": [
      "enter the number between 1 to 10: 1\n"
     ]
    },
    {
     "name": "stdout",
     "output_type": "stream",
     "text": [
      "fail\n"
     ]
    },
    {
     "name": "stdin",
     "output_type": "stream",
     "text": [
      "enter the number between 1 to 10: 3\n"
     ]
    },
    {
     "name": "stdout",
     "output_type": "stream",
     "text": [
      "fail\n"
     ]
    },
    {
     "name": "stdin",
     "output_type": "stream",
     "text": [
      "enter the number between 1 to 10: 4\n"
     ]
    },
    {
     "name": "stdout",
     "output_type": "stream",
     "text": [
      "won\n"
     ]
    }
   ],
   "source": [
    "#10Q) \n",
    "# get a random number between 1 to 10: num1\n",
    "# Ask the user enter a number  : num2\n",
    "# if num1==num2 then print won\n",
    "# else print fail\n",
    "\n",
    "# give 3 chances \n",
    "\n",
    "import random\n",
    "for i in range(3):\n",
    "    num1=random.randint(1,10)\n",
    "    num2=eval(input('enter the number between 1 to 10:'))\n",
    "    if num1==num2:\n",
    "        \n",
    "        print('won')\n",
    "    else:\n",
    "        print('fail')\n"
   ]
  },
  {
   "cell_type": "code",
   "execution_count": 6,
   "id": "5cb6c058-48d3-4071-ae55-703822c62452",
   "metadata": {},
   "outputs": [
    {
     "name": "stdin",
     "output_type": "stream",
     "text": [
      "enter the number between 1 to 10: 2\n"
     ]
    },
    {
     "name": "stdout",
     "output_type": "stream",
     "text": [
      "lost\n",
      "chances left are:3\n"
     ]
    },
    {
     "name": "stdin",
     "output_type": "stream",
     "text": [
      "enter the number between 1 to 10: 3\n"
     ]
    },
    {
     "name": "stdout",
     "output_type": "stream",
     "text": [
      "lost\n",
      "chances left are:2\n"
     ]
    },
    {
     "name": "stdin",
     "output_type": "stream",
     "text": [
      "enter the number between 1 to 10: 6\n"
     ]
    },
    {
     "name": "stdout",
     "output_type": "stream",
     "text": [
      "lost\n",
      "chances left are:1\n"
     ]
    },
    {
     "name": "stdin",
     "output_type": "stream",
     "text": [
      "enter the number between 1 to 10: 8\n"
     ]
    },
    {
     "name": "stdout",
     "output_type": "stream",
     "text": [
      "lost\n",
      "chances left are:0\n",
      "try again after 24 hours\n"
     ]
    }
   ],
   "source": [
    "#case3: \n",
    "# suppose i want to give 4 chances \n",
    "# every time you fail i want to display \n",
    "#number of chances in left\n",
    "\n",
    "# if all the chances you are used \n",
    "# try again after 24hrs\n",
    "\n",
    "# if you are won\n",
    "\n",
    "import random\n",
    "for i in range(4):\n",
    "    num1=random.randint(1,11)\n",
    "    num2=eval(input(\"enter the number between 1 to 10:\"))\n",
    "    if num1==num2:\n",
    "        print(\"won\")\n",
    "        break\n",
    "    else:\n",
    "        print(\"lost\")\n",
    "        print(f\"chances left are:{3-i}\")\n",
    "        if(3-i)==0:\n",
    "            print(\"try again after 24 hours\")"
   ]
  },
  {
   "cell_type": "code",
   "execution_count": null,
   "id": "e88f225d-2cfb-437b-bcbe-ac741865a842",
   "metadata": {},
   "outputs": [],
   "source": []
  }
 ],
 "metadata": {
  "kernelspec": {
   "display_name": "Python 3 (ipykernel)",
   "language": "python",
   "name": "python3"
  },
  "language_info": {
   "codemirror_mode": {
    "name": "ipython",
    "version": 3
   },
   "file_extension": ".py",
   "mimetype": "text/x-python",
   "name": "python",
   "nbconvert_exporter": "python",
   "pygments_lexer": "ipython3",
   "version": "3.11.7"
  }
 },
 "nbformat": 4,
 "nbformat_minor": 5
}
